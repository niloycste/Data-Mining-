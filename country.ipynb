{
 "cells": [
  {
   "cell_type": "code",
   "execution_count": 81,
   "metadata": {},
   "outputs": [
    {
     "name": "stdout",
     "output_type": "stream",
     "text": [
      "['Country', 'Capital', 'Currency']\n",
      "['Bangladesh', 'Dhaka', 'Taka']\n",
      "['India', 'New-Delhi', 'Rupees']\n",
      "['China', 'Beijing', 'Renminbi']\n",
      "['Srilanka', 'Colombo', 'Rupees']\n",
      "['USA', 'New-York', 'Dollars']\n"
     ]
    }
   ],
   "source": [
    "location=\"C:\\\\Users\\\\Niloy\\\\OneDrive\\\\Desktop\\\\Country.txt\"\n",
    "file=open(location,'r')\n",
    "country=[]\n",
    "for line in file:\n",
    "    x=line.split()\n",
    "    print(x)\n",
    "    country.append(x)"
   ]
  },
  {
   "cell_type": "code",
   "execution_count": 88,
   "metadata": {},
   "outputs": [
    {
     "name": "stdout",
     "output_type": "stream",
     "text": [
      "{'Country': 'Capital', 'Bangladesh': 'Dhaka', 'India': 'New-Delhi', 'China': 'Beijing', 'Srilanka': 'Colombo', 'USA': 'New-York'}\n",
      " \n",
      "{'Country': 'Currency', 'Bangladesh': 'Taka', 'India': 'Rupees', 'China': 'Renminbi', 'Srilanka': 'Rupees', 'USA': 'Dollars'}\n"
     ]
    }
   ],
   "source": [
    "capital={}\n",
    "currency={}\n",
    "for countries in country:\n",
    "    key=countries[0]\n",
    "    value=countries[1]\n",
    "    second_value=countries[2]\n",
    "    capital[key]=value\n",
    "    currency[key]=second_value\n",
    "    \n",
    "print(capital)\n",
    "print(\" \")\n",
    "print(currency)\n",
    "    "
   ]
  },
  {
   "cell_type": "code",
   "execution_count": null,
   "metadata": {},
   "outputs": [],
   "source": []
  }
 ],
 "metadata": {
  "kernelspec": {
   "display_name": "Python 3",
   "language": "python",
   "name": "python3"
  },
  "language_info": {
   "codemirror_mode": {
    "name": "ipython",
    "version": 3
   },
   "file_extension": ".py",
   "mimetype": "text/x-python",
   "name": "python",
   "nbconvert_exporter": "python",
   "pygments_lexer": "ipython3",
   "version": "3.7.4"
  }
 },
 "nbformat": 4,
 "nbformat_minor": 2
}
