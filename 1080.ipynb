{
 "cells": [
  {
   "cell_type": "code",
   "execution_count": 9,
   "metadata": {},
   "outputs": [],
   "source": [
    "import pandas as pd\n",
    "data_df=pd.read_csv(r\"C:\\Users\\Niloy\\Linear Regression\\data one thousand.csv\",header=None)"
   ]
  },
  {
   "cell_type": "code",
   "execution_count": 10,
   "metadata": {},
   "outputs": [
    {
     "data": {
      "text/html": [
       "<div>\n",
       "<style scoped>\n",
       "    .dataframe tbody tr th:only-of-type {\n",
       "        vertical-align: middle;\n",
       "    }\n",
       "\n",
       "    .dataframe tbody tr th {\n",
       "        vertical-align: top;\n",
       "    }\n",
       "\n",
       "    .dataframe thead th {\n",
       "        text-align: right;\n",
       "    }\n",
       "</style>\n",
       "<table border=\"1\" class=\"dataframe\">\n",
       "  <thead>\n",
       "    <tr style=\"text-align: right;\">\n",
       "      <th></th>\n",
       "      <th>0</th>\n",
       "      <th>1</th>\n",
       "      <th>2</th>\n",
       "      <th>3</th>\n",
       "      <th>4</th>\n",
       "      <th>5</th>\n",
       "      <th>6</th>\n",
       "      <th>7</th>\n",
       "      <th>8</th>\n",
       "      <th>9</th>\n",
       "      <th>10</th>\n",
       "      <th>11</th>\n",
       "      <th>12</th>\n",
       "    </tr>\n",
       "  </thead>\n",
       "  <tbody>\n",
       "    <tr>\n",
       "      <td>0</td>\n",
       "      <td>270914</td>\n",
       "      <td>45554</td>\n",
       "      <td>4173</td>\n",
       "      <td>4621</td>\n",
       "      <td>45527</td>\n",
       "      <td>1428</td>\n",
       "      <td>30809</td>\n",
       "      <td>27</td>\n",
       "      <td>27</td>\n",
       "      <td>45500</td>\n",
       "      <td>3480</td>\n",
       "      <td>45500</td>\n",
       "      <td>45500</td>\n",
       "    </tr>\n",
       "    <tr>\n",
       "      <td>1</td>\n",
       "      <td>250802</td>\n",
       "      <td>57610</td>\n",
       "      <td>2639</td>\n",
       "      <td>6045</td>\n",
       "      <td>42008</td>\n",
       "      <td>1902</td>\n",
       "      <td>39234</td>\n",
       "      <td>1008</td>\n",
       "      <td>808</td>\n",
       "      <td>41000</td>\n",
       "      <td>3136</td>\n",
       "      <td>41000</td>\n",
       "      <td>41000</td>\n",
       "    </tr>\n",
       "    <tr>\n",
       "      <td>2</td>\n",
       "      <td>299391</td>\n",
       "      <td>56606</td>\n",
       "      <td>3315</td>\n",
       "      <td>4765</td>\n",
       "      <td>56485</td>\n",
       "      <td>1903</td>\n",
       "      <td>31767</td>\n",
       "      <td>485</td>\n",
       "      <td>485</td>\n",
       "      <td>56000</td>\n",
       "      <td>4284</td>\n",
       "      <td>56000</td>\n",
       "      <td>56000</td>\n",
       "    </tr>\n",
       "    <tr>\n",
       "      <td>3</td>\n",
       "      <td>167656</td>\n",
       "      <td>38993</td>\n",
       "      <td>1619</td>\n",
       "      <td>3932</td>\n",
       "      <td>23580</td>\n",
       "      <td>1177</td>\n",
       "      <td>26216</td>\n",
       "      <td>700</td>\n",
       "      <td>700</td>\n",
       "      <td>22880</td>\n",
       "      <td>1750</td>\n",
       "      <td>22880</td>\n",
       "      <td>22880</td>\n",
       "    </tr>\n",
       "    <tr>\n",
       "      <td>4</td>\n",
       "      <td>176962</td>\n",
       "      <td>40462</td>\n",
       "      <td>4604</td>\n",
       "      <td>4349</td>\n",
       "      <td>21751</td>\n",
       "      <td>1219</td>\n",
       "      <td>28994</td>\n",
       "      <td>751</td>\n",
       "      <td>1</td>\n",
       "      <td>21000</td>\n",
       "      <td>1606</td>\n",
       "      <td>21000</td>\n",
       "      <td>21000</td>\n",
       "    </tr>\n",
       "  </tbody>\n",
       "</table>\n",
       "</div>"
      ],
      "text/plain": [
       "       0      1     2     3      4     5      6     7    8      9     10  \\\n",
       "0  270914  45554  4173  4621  45527  1428  30809    27   27  45500  3480   \n",
       "1  250802  57610  2639  6045  42008  1902  39234  1008  808  41000  3136   \n",
       "2  299391  56606  3315  4765  56485  1903  31767   485  485  56000  4284   \n",
       "3  167656  38993  1619  3932  23580  1177  26216   700  700  22880  1750   \n",
       "4  176962  40462  4604  4349  21751  1219  28994   751    1  21000  1606   \n",
       "\n",
       "      11     12  \n",
       "0  45500  45500  \n",
       "1  41000  41000  \n",
       "2  56000  56000  \n",
       "3  22880  22880  \n",
       "4  21000  21000  "
      ]
     },
     "execution_count": 10,
     "metadata": {},
     "output_type": "execute_result"
    }
   ],
   "source": [
    "data_df.head()"
   ]
  },
  {
   "cell_type": "code",
   "execution_count": 12,
   "metadata": {},
   "outputs": [],
   "source": [
    "data_df.columns=['independant A','independant B','independant C','independant D','independant E','independant F','independant G','independant H','independant I','independant J ','independant K','independant L','Dependant M']"
   ]
  },
  {
   "cell_type": "code",
   "execution_count": 13,
   "metadata": {},
   "outputs": [
    {
     "data": {
      "text/html": [
       "<div>\n",
       "<style scoped>\n",
       "    .dataframe tbody tr th:only-of-type {\n",
       "        vertical-align: middle;\n",
       "    }\n",
       "\n",
       "    .dataframe tbody tr th {\n",
       "        vertical-align: top;\n",
       "    }\n",
       "\n",
       "    .dataframe thead th {\n",
       "        text-align: right;\n",
       "    }\n",
       "</style>\n",
       "<table border=\"1\" class=\"dataframe\">\n",
       "  <thead>\n",
       "    <tr style=\"text-align: right;\">\n",
       "      <th></th>\n",
       "      <th>independant A</th>\n",
       "      <th>independant B</th>\n",
       "      <th>independant C</th>\n",
       "      <th>independant D</th>\n",
       "      <th>independant E</th>\n",
       "      <th>independant F</th>\n",
       "      <th>independant G</th>\n",
       "      <th>independant H</th>\n",
       "      <th>independant I</th>\n",
       "      <th>independant J</th>\n",
       "      <th>independant K</th>\n",
       "      <th>independant L</th>\n",
       "      <th>Dependant M</th>\n",
       "    </tr>\n",
       "  </thead>\n",
       "  <tbody>\n",
       "    <tr>\n",
       "      <td>0</td>\n",
       "      <td>270914</td>\n",
       "      <td>45554</td>\n",
       "      <td>4173</td>\n",
       "      <td>4621</td>\n",
       "      <td>45527</td>\n",
       "      <td>1428</td>\n",
       "      <td>30809</td>\n",
       "      <td>27</td>\n",
       "      <td>27</td>\n",
       "      <td>45500</td>\n",
       "      <td>3480</td>\n",
       "      <td>45500</td>\n",
       "      <td>45500</td>\n",
       "    </tr>\n",
       "    <tr>\n",
       "      <td>1</td>\n",
       "      <td>250802</td>\n",
       "      <td>57610</td>\n",
       "      <td>2639</td>\n",
       "      <td>6045</td>\n",
       "      <td>42008</td>\n",
       "      <td>1902</td>\n",
       "      <td>39234</td>\n",
       "      <td>1008</td>\n",
       "      <td>808</td>\n",
       "      <td>41000</td>\n",
       "      <td>3136</td>\n",
       "      <td>41000</td>\n",
       "      <td>41000</td>\n",
       "    </tr>\n",
       "    <tr>\n",
       "      <td>2</td>\n",
       "      <td>299391</td>\n",
       "      <td>56606</td>\n",
       "      <td>3315</td>\n",
       "      <td>4765</td>\n",
       "      <td>56485</td>\n",
       "      <td>1903</td>\n",
       "      <td>31767</td>\n",
       "      <td>485</td>\n",
       "      <td>485</td>\n",
       "      <td>56000</td>\n",
       "      <td>4284</td>\n",
       "      <td>56000</td>\n",
       "      <td>56000</td>\n",
       "    </tr>\n",
       "    <tr>\n",
       "      <td>3</td>\n",
       "      <td>167656</td>\n",
       "      <td>38993</td>\n",
       "      <td>1619</td>\n",
       "      <td>3932</td>\n",
       "      <td>23580</td>\n",
       "      <td>1177</td>\n",
       "      <td>26216</td>\n",
       "      <td>700</td>\n",
       "      <td>700</td>\n",
       "      <td>22880</td>\n",
       "      <td>1750</td>\n",
       "      <td>22880</td>\n",
       "      <td>22880</td>\n",
       "    </tr>\n",
       "    <tr>\n",
       "      <td>4</td>\n",
       "      <td>176962</td>\n",
       "      <td>40462</td>\n",
       "      <td>4604</td>\n",
       "      <td>4349</td>\n",
       "      <td>21751</td>\n",
       "      <td>1219</td>\n",
       "      <td>28994</td>\n",
       "      <td>751</td>\n",
       "      <td>1</td>\n",
       "      <td>21000</td>\n",
       "      <td>1606</td>\n",
       "      <td>21000</td>\n",
       "      <td>21000</td>\n",
       "    </tr>\n",
       "    <tr>\n",
       "      <td>...</td>\n",
       "      <td>...</td>\n",
       "      <td>...</td>\n",
       "      <td>...</td>\n",
       "      <td>...</td>\n",
       "      <td>...</td>\n",
       "      <td>...</td>\n",
       "      <td>...</td>\n",
       "      <td>...</td>\n",
       "      <td>...</td>\n",
       "      <td>...</td>\n",
       "      <td>...</td>\n",
       "      <td>...</td>\n",
       "      <td>...</td>\n",
       "    </tr>\n",
       "    <tr>\n",
       "      <td>1075</td>\n",
       "      <td>146853</td>\n",
       "      <td>42507</td>\n",
       "      <td>1625</td>\n",
       "      <td>6043</td>\n",
       "      <td>42507</td>\n",
       "      <td>2498</td>\n",
       "      <td>32146</td>\n",
       "      <td>411</td>\n",
       "      <td>411</td>\n",
       "      <td>42096</td>\n",
       "      <td>3220</td>\n",
       "      <td>42096</td>\n",
       "      <td>42096</td>\n",
       "    </tr>\n",
       "    <tr>\n",
       "      <td>1076</td>\n",
       "      <td>158642</td>\n",
       "      <td>83390</td>\n",
       "      <td>3362</td>\n",
       "      <td>16860</td>\n",
       "      <td>83390</td>\n",
       "      <td>3560</td>\n",
       "      <td>69261</td>\n",
       "      <td>7390</td>\n",
       "      <td>5190</td>\n",
       "      <td>76000</td>\n",
       "      <td>4859</td>\n",
       "      <td>76000</td>\n",
       "      <td>76000</td>\n",
       "    </tr>\n",
       "    <tr>\n",
       "      <td>1077</td>\n",
       "      <td>314823</td>\n",
       "      <td>35450</td>\n",
       "      <td>4011</td>\n",
       "      <td>2613</td>\n",
       "      <td>38700</td>\n",
       "      <td>1263</td>\n",
       "      <td>20050</td>\n",
       "      <td>6700</td>\n",
       "      <td>200</td>\n",
       "      <td>32000</td>\n",
       "      <td>2448</td>\n",
       "      <td>32000</td>\n",
       "      <td>32000</td>\n",
       "    </tr>\n",
       "    <tr>\n",
       "      <td>1078</td>\n",
       "      <td>69141</td>\n",
       "      <td>54399</td>\n",
       "      <td>1746</td>\n",
       "      <td>7837</td>\n",
       "      <td>45785</td>\n",
       "      <td>2652</td>\n",
       "      <td>38551</td>\n",
       "      <td>177</td>\n",
       "      <td>177</td>\n",
       "      <td>45608</td>\n",
       "      <td>3489</td>\n",
       "      <td>45608</td>\n",
       "      <td>45608</td>\n",
       "    </tr>\n",
       "    <tr>\n",
       "      <td>1079</td>\n",
       "      <td>389157</td>\n",
       "      <td>19125</td>\n",
       "      <td>3013</td>\n",
       "      <td>1374</td>\n",
       "      <td>20553</td>\n",
       "      <td>337</td>\n",
       "      <td>9160</td>\n",
       "      <td>1553</td>\n",
       "      <td>633</td>\n",
       "      <td>19000</td>\n",
       "      <td>1453</td>\n",
       "      <td>19000</td>\n",
       "      <td>19000</td>\n",
       "    </tr>\n",
       "  </tbody>\n",
       "</table>\n",
       "<p>1080 rows × 13 columns</p>\n",
       "</div>"
      ],
      "text/plain": [
       "      independant A  independant B  independant C  independant D  \\\n",
       "0            270914          45554           4173           4621   \n",
       "1            250802          57610           2639           6045   \n",
       "2            299391          56606           3315           4765   \n",
       "3            167656          38993           1619           3932   \n",
       "4            176962          40462           4604           4349   \n",
       "...             ...            ...            ...            ...   \n",
       "1075         146853          42507           1625           6043   \n",
       "1076         158642          83390           3362          16860   \n",
       "1077         314823          35450           4011           2613   \n",
       "1078          69141          54399           1746           7837   \n",
       "1079         389157          19125           3013           1374   \n",
       "\n",
       "      independant E  independant F  independant G  independant H  \\\n",
       "0             45527           1428          30809             27   \n",
       "1             42008           1902          39234           1008   \n",
       "2             56485           1903          31767            485   \n",
       "3             23580           1177          26216            700   \n",
       "4             21751           1219          28994            751   \n",
       "...             ...            ...            ...            ...   \n",
       "1075          42507           2498          32146            411   \n",
       "1076          83390           3560          69261           7390   \n",
       "1077          38700           1263          20050           6700   \n",
       "1078          45785           2652          38551            177   \n",
       "1079          20553            337           9160           1553   \n",
       "\n",
       "      independant I  independant J   independant K  independant L  Dependant M  \n",
       "0                27           45500           3480          45500        45500  \n",
       "1               808           41000           3136          41000        41000  \n",
       "2               485           56000           4284          56000        56000  \n",
       "3               700           22880           1750          22880        22880  \n",
       "4                 1           21000           1606          21000        21000  \n",
       "...             ...             ...            ...            ...          ...  \n",
       "1075            411           42096           3220          42096        42096  \n",
       "1076           5190           76000           4859          76000        76000  \n",
       "1077            200           32000           2448          32000        32000  \n",
       "1078            177           45608           3489          45608        45608  \n",
       "1079            633           19000           1453          19000        19000  \n",
       "\n",
       "[1080 rows x 13 columns]"
      ]
     },
     "execution_count": 13,
     "metadata": {},
     "output_type": "execute_result"
    }
   ],
   "source": [
    "data_df"
   ]
  },
  {
   "cell_type": "code",
   "execution_count": 14,
   "metadata": {},
   "outputs": [],
   "source": [
    "x=data_df.drop(['Dependant M'],axis=1).values\n",
    "y=data_df['Dependant M'].values"
   ]
  },
  {
   "cell_type": "code",
   "execution_count": 15,
   "metadata": {},
   "outputs": [
    {
     "name": "stdout",
     "output_type": "stream",
     "text": [
      "[[270914  45554   4173 ...  45500   3480  45500]\n",
      " [250802  57610   2639 ...  41000   3136  41000]\n",
      " [299391  56606   3315 ...  56000   4284  56000]\n",
      " ...\n",
      " [314823  35450   4011 ...  32000   2448  32000]\n",
      " [ 69141  54399   1746 ...  45608   3489  45608]\n",
      " [389157  19125   3013 ...  19000   1453  19000]]\n"
     ]
    }
   ],
   "source": [
    "print(x)"
   ]
  },
  {
   "cell_type": "code",
   "execution_count": 16,
   "metadata": {},
   "outputs": [
    {
     "name": "stdout",
     "output_type": "stream",
     "text": [
      "[45500 41000 56000 ... 32000 45608 19000]\n"
     ]
    }
   ],
   "source": [
    "print(y)"
   ]
  },
  {
   "cell_type": "code",
   "execution_count": 17,
   "metadata": {},
   "outputs": [],
   "source": [
    "from sklearn.model_selection import train_test_split\n",
    "x_train, x_test, y_train, y_test= train_test_split(x,y,test_size=0.10,random_state=0)"
   ]
  },
  {
   "cell_type": "code",
   "execution_count": 18,
   "metadata": {},
   "outputs": [
    {
     "data": {
      "text/plain": [
       "LinearRegression(copy_X=True, fit_intercept=True, n_jobs=None, normalize=False)"
      ]
     },
     "execution_count": 18,
     "metadata": {},
     "output_type": "execute_result"
    }
   ],
   "source": [
    "from sklearn.linear_model import LinearRegression\n",
    "ml=LinearRegression()\n",
    "ml.fit(x_train,y_train)"
   ]
  },
  {
   "cell_type": "code",
   "execution_count": 19,
   "metadata": {},
   "outputs": [
    {
     "name": "stdout",
     "output_type": "stream",
     "text": [
      "[72625.59249762 24753.13908637 54589.90196298 57366.98590967\n",
      " 38949.83276464 16833.63301281 18467.51778252 49248.1924829\n",
      " 17092.13346336 14123.24198493   748.58668126 18080.94393104\n",
      " 21048.00894596 31728.82360792 19929.06874846 13793.63813772\n",
      " 50400.63098471 33137.42831916 29642.24481823 63644.15931153\n",
      "  8177.36281729 45333.45520292 52126.77583646 31349.43751404\n",
      " 31247.44259561 60313.04996766 55446.66116437 45458.54426439\n",
      " 26671.76723276 53857.65904263 31676.29928409 29033.35851404\n",
      " 39927.50329627 46005.99636587  9370.76537619  6432.69703869\n",
      " 50406.53487263  6182.21689403 10291.19127612 67930.64777429\n",
      " 10190.48561177 32029.8026225  23155.63879681 48461.84880118\n",
      " 49933.97632452 47604.20213527 31257.04881856 33157.40554306\n",
      " 46916.79590121 43841.24617267 70554.02505008 44156.94271179\n",
      " 63764.9457094  17149.95273885 53028.42391044  9844.32059378\n",
      " 38473.87355729 39684.33090667 25513.21685975 25150.58739153\n",
      " 17569.6586026  31358.96063205 28852.81581021   944.38914582\n",
      " 53183.26039289 31590.87000757 29532.60616459 41352.48340734\n",
      " 58745.15507382 83193.78420145 45522.30755071 52365.92996444\n",
      " 82254.83456127 71523.91219619 27364.22915428  2356.11502866\n",
      " 55815.75783544 63351.43662047 47257.56597476 29043.30761132\n",
      "  9414.4503133  14156.13976414 14143.73039175 39896.9364841\n",
      " 42811.08375682 21258.91773653 10884.78557612 59265.5958597\n",
      " 59825.14155807 63538.89096058 86940.72823272 61868.98935795\n",
      " 41624.91905359  8913.8315237  69708.50011862 67766.52196937\n",
      " 11608.16246842 44036.38236396 21517.69795266 30786.90328284\n",
      " 72502.52293274 41947.03119046 24630.77391969 48368.82547277\n",
      " 28972.29594857 32702.9605319  28892.65667508 18867.60571055]\n"
     ]
    }
   ],
   "source": [
    "y_pred=ml.predict(x_test)\n",
    "print(y_pred)"
   ]
  },
  {
   "cell_type": "code",
   "execution_count": 20,
   "metadata": {},
   "outputs": [
    {
     "data": {
      "text/plain": [
       "array([44127.60152328])"
      ]
     },
     "execution_count": 20,
     "metadata": {},
     "output_type": "execute_result"
    }
   ],
   "source": [
    "ml.predict([[270914, 45554, 4173, 4621, 45527, 1428, 30809, 27, 27, 45500,3480 ,45500 ]])"
   ]
  },
  {
   "cell_type": "code",
   "execution_count": 21,
   "metadata": {},
   "outputs": [
    {
     "data": {
      "text/plain": [
       "0.948895039696477"
      ]
     },
     "execution_count": 21,
     "metadata": {},
     "output_type": "execute_result"
    }
   ],
   "source": [
    "from sklearn.metrics import r2_score\n",
    "r2_score(y_test,y_pred)\n",
    "    "
   ]
  },
  {
   "cell_type": "code",
   "execution_count": 24,
   "metadata": {},
   "outputs": [
    {
     "data": {
      "text/plain": [
       "Text(0.5, 1.0, 'Actual vs. Predicted')"
      ]
     },
     "execution_count": 24,
     "metadata": {},
     "output_type": "execute_result"
    },
    {
     "data": {
      "image/png": "[encoded data removed]",
      "text/plain": [
       "<Figure size 1080x720 with 1 Axes>"
      ]
     },
     "metadata": {
      "needs_background": "light"
     },
     "output_type": "display_data"
    }
   ],
   "source": [
    "import matplotlib.pyplot as plt\n",
    "plt.figure(figsize=(15,10))\n",
    "plt.scatter(y_test,y_pred)\n",
    "plt.xlabel(\"Actual\")\n",
    "plt.ylabel(\"Predicted\")\n",
    "plt.title(\"Actual vs. Predicted\")"
   ]
  },
  {
   "cell_type": "code",
   "execution_count": 26,
   "metadata": {},
   "outputs": [
    {
     "data": {
      "text/html": [
       "<div>\n",
       "<style scoped>\n",
       "    .dataframe tbody tr th:only-of-type {\n",
       "        vertical-align: middle;\n",
       "    }\n",
       "\n",
       "    .dataframe tbody tr th {\n",
       "        vertical-align: top;\n",
       "    }\n",
       "\n",
       "    .dataframe thead th {\n",
       "        text-align: right;\n",
       "    }\n",
       "</style>\n",
       "<table border=\"1\" class=\"dataframe\">\n",
       "  <thead>\n",
       "    <tr style=\"text-align: right;\">\n",
       "      <th></th>\n",
       "      <th>Actual Value</th>\n",
       "      <th>Predicted Value</th>\n",
       "      <th>Difference</th>\n",
       "    </tr>\n",
       "  </thead>\n",
       "  <tbody>\n",
       "    <tr>\n",
       "      <td>0</td>\n",
       "      <td>75000</td>\n",
       "      <td>72625.592498</td>\n",
       "      <td>2374.407502</td>\n",
       "    </tr>\n",
       "    <tr>\n",
       "      <td>1</td>\n",
       "      <td>25000</td>\n",
       "      <td>24753.139086</td>\n",
       "      <td>246.860914</td>\n",
       "    </tr>\n",
       "    <tr>\n",
       "      <td>2</td>\n",
       "      <td>56000</td>\n",
       "      <td>54589.901963</td>\n",
       "      <td>1410.098037</td>\n",
       "    </tr>\n",
       "    <tr>\n",
       "      <td>3</td>\n",
       "      <td>58864</td>\n",
       "      <td>57366.985910</td>\n",
       "      <td>1497.014090</td>\n",
       "    </tr>\n",
       "    <tr>\n",
       "      <td>4</td>\n",
       "      <td>37000</td>\n",
       "      <td>38949.832765</td>\n",
       "      <td>-1949.832765</td>\n",
       "    </tr>\n",
       "    <tr>\n",
       "      <td>...</td>\n",
       "      <td>...</td>\n",
       "      <td>...</td>\n",
       "      <td>...</td>\n",
       "    </tr>\n",
       "    <tr>\n",
       "      <td>103</td>\n",
       "      <td>50000</td>\n",
       "      <td>48368.825473</td>\n",
       "      <td>1631.174527</td>\n",
       "    </tr>\n",
       "    <tr>\n",
       "      <td>104</td>\n",
       "      <td>30000</td>\n",
       "      <td>28972.295949</td>\n",
       "      <td>1027.704051</td>\n",
       "    </tr>\n",
       "    <tr>\n",
       "      <td>105</td>\n",
       "      <td>28500</td>\n",
       "      <td>32702.960532</td>\n",
       "      <td>-4202.960532</td>\n",
       "    </tr>\n",
       "    <tr>\n",
       "      <td>106</td>\n",
       "      <td>29500</td>\n",
       "      <td>28892.656675</td>\n",
       "      <td>607.343325</td>\n",
       "    </tr>\n",
       "    <tr>\n",
       "      <td>107</td>\n",
       "      <td>20000</td>\n",
       "      <td>18867.605711</td>\n",
       "      <td>1132.394289</td>\n",
       "    </tr>\n",
       "  </tbody>\n",
       "</table>\n",
       "<p>108 rows × 3 columns</p>\n",
       "</div>"
      ],
      "text/plain": [
       "     Actual Value  Predicted Value   Difference\n",
       "0           75000     72625.592498  2374.407502\n",
       "1           25000     24753.139086   246.860914\n",
       "2           56000     54589.901963  1410.098037\n",
       "3           58864     57366.985910  1497.014090\n",
       "4           37000     38949.832765 -1949.832765\n",
       "..            ...              ...          ...\n",
       "103         50000     48368.825473  1631.174527\n",
       "104         30000     28972.295949  1027.704051\n",
       "105         28500     32702.960532 -4202.960532\n",
       "106         29500     28892.656675   607.343325\n",
       "107         20000     18867.605711  1132.394289\n",
       "\n",
       "[108 rows x 3 columns]"
      ]
     },
     "execution_count": 26,
     "metadata": {},
     "output_type": "execute_result"
    }
   ],
   "source": [
    "pred_y_df=pd.DataFrame({\"Actual Value\":y_test,\"Predicted Value\":y_pred,\"Difference\":y_test-y_pred})\n",
    "pred_y_df[0:1000]"
   ]
  },
  {
   "cell_type": "code",
   "execution_count": 31,
   "metadata": {},
   "outputs": [
    {
     "data": {
      "text/plain": [
       "array([75000, 25000, 56000, 58864, 37000, 17782, 19000, 50000, 18000,\n",
       "       15000,  2000, 19000, 22000, 33000, 20000, 14000, 52000, 34000,\n",
       "       31000, 65000,  9005, 47000, 52000, 32000, 32000, 62000, 50000,\n",
       "       47000, 27800, 55000, 33000, 29457, 41000, 47000,  9360,  8400,\n",
       "       52000,  6000,  9000, 70000, 10000, 32232, 24000, 50000, 51000,\n",
       "       49000, 32000, 35000, 49000,  1200, 75000, 45000, 58000, 18000,\n",
       "       55000,  9600, 40000, 41000, 26000, 14400, 18044, 32377, 25164,\n",
       "        2000, 55000, 32000, 15000, 42000, 60000, 86000, 46900, 53700,\n",
       "       85000, 73000, 28000,  2975, 57700, 65000, 48433, 30000, 10000,\n",
       "       14560, 15000, 41000, 44000, 22000,  2068, 61000, 61178, 65000,\n",
       "       90000, 64000, 43000,  9000, 72000, 70000, 12000, 45000, 21800,\n",
       "       32000, 75000, 43000, 26000, 50000, 30000, 28500, 29500, 20000],\n",
       "      dtype=int64)"
      ]
     },
     "execution_count": 31,
     "metadata": {},
     "output_type": "execute_result"
    }
   ],
   "source": [
    "y_test"
   ]
  },
  {
   "cell_type": "code",
   "execution_count": 28,
   "metadata": {},
   "outputs": [
    {
     "data": {
      "text/plain": [
       "array([[129453,  89000,   1965, ...,  75000,   4844,  75000],\n",
       "       [148382,  99804,   3479, ...,  25000,   1912,  25000],\n",
       "       [150637,  62525,   4740, ...,  56000,   4284,  56000],\n",
       "       ...,\n",
       "       [349156,  67929,   3209, ...,  33500,   2562,  33500],\n",
       "       [219674,  59200,   3371, ...,  29500,   2256,  29500],\n",
       "       [177467,  98608,   1277, ...,  20000,   1530,  20000]], dtype=int64)"
      ]
     },
     "execution_count": 28,
     "metadata": {},
     "output_type": "execute_result"
    }
   ],
   "source": [
    "x_test"
   ]
  },
  {
   "cell_type": "code",
   "execution_count": 32,
   "metadata": {},
   "outputs": [
    {
     "data": {
      "text/plain": [
       "array([[197755,  52543,   3462, ...,  19000,   1453,  19000],\n",
       "       [173657,  28317,   1627, ...,  27000,   2065,  27000],\n",
       "       [ 71725,  81442,   4813, ...,  80000,   4917,  80000],\n",
       "       ...,\n",
       "       [136917,  69953,   2356, ...,  65000,   4699,  65000],\n",
       "       [179150,  21060,   1554, ...,  21000,   1606,  21000],\n",
       "       [151171,  64449,   3664, ...,  33000,   2524,  33000]], dtype=int64)"
      ]
     },
     "execution_count": 32,
     "metadata": {},
     "output_type": "execute_result"
    }
   ],
   "source": [
    "x_train"
   ]
  },
  {
   "cell_type": "code",
   "execution_count": 33,
   "metadata": {},
   "outputs": [
    {
     "data": {
      "text/plain": [
       "array([19000, 27000, 70000,  8400, 65000, 40000, 52000, 38000,  8500,\n",
       "       16000, 24000, 24000, 55000, 42000, 12000, 18000, 25000, 75000,\n",
       "       36000, 28000, 33000,  4320, 52000, 42000, 20000, 80000, 44000,\n",
       "       65000,  6000, 29640,  2000, 65000, 28000, 78912, 12000, 37000,\n",
       "       32000, 55000, 13000, 56000, 27000, 25000, 55000, 28000, 49000,\n",
       "       31000, 16000, 60000, 36000, 60000, 18800, 33000, 16000, 52000,\n",
       "          80, 50000, 70000,   875, 55000, 40000, 21000,  7600, 23600,\n",
       "       30000, 48000, 40000, 26000, 23000, 24000, 41000, 86000, 65000,\n",
       "       60000, 19760, 28000, 49000, 40000, 50000, 62400, 53000, 21000,\n",
       "       25000, 30000, 18000, 15000, 52000, 25000, 10000, 52000, 12000,\n",
       "       40000, 57640, 50000, 60000, 54217, 76000, 38000, 36000, 95000,\n",
       "       33700, 30000, 89000, 70000, 20000, 43000,  4708, 73600, 11000,\n",
       "       33000, 15000, 10800, 28000, 21000, 40897, 20000, 20000, 28000,\n",
       "       30000, 59500, 15500, 22000, 33800, 54000, 31500, 34000, 18000,\n",
       "       87000, 35527,  8000, 45000, 82000, 28800,  6671,  2000, 33546,\n",
       "       19000, 68000, 26000, 40000,  1512, 51000, 41000, 41400, 73000,\n",
       "       60000, 80000, 20349, 38000, 15000, 48248, 23000, 45000, 85000,\n",
       "       15042, 40000,  9500, 48000, 55000, 39000, 22500, 30000, 16540,\n",
       "       43000, 58000, 52000, 80000, 41741, 64000, 28000,  9984, 43000,\n",
       "       57500, 53000, 30000, 43380, 65000, 45000, 40000,  8000, 50000,\n",
       "       72000, 17000, 56000, 48300, 18020, 62000, 60000, 22000, 43000,\n",
       "       55000, 51000, 60000, 24000,  3008,  7952, 28000, 47000, 33000,\n",
       "       74000, 48000, 31020,  5200, 42000, 43000, 50000, 12000, 65000,\n",
       "       53817, 47000,  7000, 21987, 88000, 34500, 34000, 37000, 30000,\n",
       "       33625, 40000, 30000, 90000, 65000, 45100,  5060, 57000, 31200,\n",
       "       44000,  7000,  8000, 59900, 40000, 28000, 41000, 65000, 26000,\n",
       "       49000, 65000, 49000, 25542, 70000, 38000, 13000, 75068, 55000,\n",
       "       54000, 22000, 64000, 37500, 10120, 32000, 40425,  7200, 62000,\n",
       "       16000, 42500, 75000, 39000, 25000, 74000, 20000, 27718, 16323,\n",
       "       18000, 36000, 28700, 24000, 31166, 42000, 25000, 47000, 22017,\n",
       "       52500, 53260, 30000, 29000, 65000, 31000, 37000, 30667, 55000,\n",
       "       25000, 64000, 15000, 40000, 60000, 18000, 26000, 48000, 52500,\n",
       "       12000, 50000, 53000, 89000, 10700, 18000, 67000, 57000, 28440,\n",
       "       70000, 44500, 30000, 63000, 80000, 51000, 20000, 64000, 19000,\n",
       "       22150, 65000,  9600,  8400,  6000, 65000,  5500, 12000,  2000,\n",
       "       50000, 30000, 64000, 34000, 16000, 68000, 53000, 55000, 44000,\n",
       "       46000, 48000, 16213,  7500, 60000, 72000,  7000, 29000, 35000,\n",
       "       50000, 30000, 59433, 15300, 42096, 25000, 45608, 67000, 22000,\n",
       "       32000, 45800, 65000, 27818, 23000, 42000, 24000, 31662, 58000,\n",
       "       15005, 24944, 56631, 30000, 55000, 41000, 22500,  6000, 33000,\n",
       "       90585, 48000, 30000, 70000, 36000, 34000, 30000, 25000, 50000,\n",
       "       12505,  7000, 60000, 70000, 36000, 65000,  3000, 23000, 45749,\n",
       "       33000,  1000, 40000, 19000, 53600, 16800, 48000, 22000,  6399,\n",
       "       24000, 30000, 75000, 40000, 48000, 59000, 14000, 75000, 70000,\n",
       "       62500, 16000, 40000, 45000, 56000, 24300, 25000, 40000, 52130,\n",
       "       36000, 72221, 19415, 56000, 83000, 63000, 49235, 60000, 55000,\n",
       "       45000, 32000, 10800, 50000, 51000, 61000, 63700, 35000, 35000,\n",
       "       23000, 69900, 45000, 67000, 50000, 37700, 40000, 55364, 90000,\n",
       "        5000, 40000, 20000, 18000, 44000, 15000,  7000, 14000, 55000,\n",
       "       20800, 38000, 40000, 20000, 27000, 90000, 34000, 28000, 16000,\n",
       "       52000, 24900, 30000, 16000, 58000, 14000, 52000, 25000, 30000,\n",
       "       10963, 22000, 40000, 30000, 25000, 18000, 50000, 62000, 50000,\n",
       "       48000, 55000, 43484, 45000, 74000, 65000,  1700, 45500, 55000,\n",
       "       61000, 40000, 23000, 48495, 90000, 24000, 32000, 80000, 30000,\n",
       "       20000, 48000, 55000, 39000,  9000, 30000, 18480, 34000, 59000,\n",
       "       18200, 50000, 53000,  3628, 28000, 62000, 60000, 49000, 22880,\n",
       "       23000, 32000, 24000, 36875, 56000,  9600, 24000, 85000, 75000,\n",
       "       35000, 23000, 50000, 34000, 55000, 50000, 82000, 42000,  6000,\n",
       "       52000,  8000, 47000, 36000, 35000, 53700, 19000, 23938, 70000,\n",
       "       47000, 24222, 40000, 55000, 20000, 25000, 44000, 32000,  9625,\n",
       "       16000, 64000, 30000, 63500, 38000,  4000, 55000, 39887, 25000,\n",
       "       82000, 50000, 70000, 34000, 28500, 22000, 52000, 57000, 17000,\n",
       "       35000, 30000, 41000, 63000, 11043, 23500, 40000, 68926, 13520,\n",
       "       54000, 54000, 50000, 50000, 36000,  5000, 16800, 50000,  8800,\n",
       "       67000, 40000, 41392, 18500, 68000, 21887, 25000, 16000, 20000,\n",
       "       42000, 50090,  3120, 38000, 55000, 22000, 21000, 50000, 39000,\n",
       "       32000, 69000, 52500, 36400,  3000, 14300, 36000, 18000, 25000,\n",
       "       28270, 55000, 30000, 24000, 32000, 50000, 42000, 15000, 35000,\n",
       "       62000, 32000, 35000, 60000, 16000, 68000, 40000, 70000, 45000,\n",
       "       15680, 96000, 37000, 13000, 35000, 31000, 21000, 30000, 60000,\n",
       "       60000, 25000, 30000, 13500, 51000, 14000, 25000, 84000, 30000,\n",
       "       39000, 14400, 60000,  6000, 20000, 19000, 45000, 70000, 62000,\n",
       "       31000, 79000,  5300, 25000, 14000, 23000, 18000, 32000, 50000,\n",
       "       70000, 22000, 35000, 53000, 22000,  7900, 34500, 55000, 43000,\n",
       "       40000,   500, 86000, 32000, 30000, 23000, 13800, 16900, 85000,\n",
       "       32000, 38500, 60000, 23000,  9000, 65000, 27500, 34000, 32000,\n",
       "       21000, 31500, 23000, 32000, 19000, 26035, 17000, 45000, 50000,\n",
       "       36000, 63000, 30743, 65000, 32000, 80000, 40200, 19100, 25000,\n",
       "       49500, 17000,  2400, 35000,  7851, 62100, 61000, 48000, 77850,\n",
       "        9500, 70000, 50000, 35000, 24900, 30000, 19811, 70000, 31200,\n",
       "       64000, 15359, 34000, 50000, 49483, 11400, 49000, 70000, 40000,\n",
       "       22800, 55000, 33000, 35000, 72000, 42000,   550, 42000, 75000,\n",
       "       44000, 22500, 14000, 65000, 31334, 14470, 61000, 47000, 44770,\n",
       "       35000, 23000, 67000, 26000, 37000, 36000, 25150, 29000, 20000,\n",
       "       20000, 22000, 28000, 15000, 26000, 14000, 75000, 26000, 20000,\n",
       "       72000, 55000, 35000, 56884, 19000, 30000, 76000, 45000, 15000,\n",
       "       11520, 82000, 32000, 24000, 24000, 65000, 46000, 28000, 30000,\n",
       "       12117, 32000, 39000, 39000, 27500, 49000, 52000,  3264,  1280,\n",
       "       68000, 42000, 25642, 42000, 15000, 23000, 45000, 90000, 42000,\n",
       "       50000, 55000, 62000, 32000,  8755, 65000, 28000, 19000, 50000,\n",
       "       40000, 35000, 25500, 45000, 26000, 50000, 97604, 17000, 23000,\n",
       "       50800,  4000, 44000, 13000, 10000, 30000,  2800, 29000, 27000,\n",
       "       60000, 33000, 42000, 20000,  7000, 40000, 54000, 56500, 52000,\n",
       "       45600, 68363, 50000, 40000, 55000, 55000, 25000, 70000, 65000,\n",
       "       43000, 55000, 85000, 40000, 32000, 50000, 58000, 46000,  7000,\n",
       "       16536, 10000, 42000, 42334, 22000, 86000, 45000, 55000, 43000,\n",
       "       26126, 38000, 30000, 25000, 18500, 36824, 51000, 58968, 26000,\n",
       "       50000, 24000, 70000, 28000, 32500, 43000, 74899, 48000, 44000,\n",
       "       32000, 20000, 78602, 57500, 66675,  5000, 15000, 60000, 51000,\n",
       "       20000, 60000, 40000, 50000, 54000,  8000, 30000, 27000, 18000,\n",
       "       93000, 10452,  5400, 64883, 52000, 15000, 15000, 60000, 40000,\n",
       "       26000, 41000, 59500, 10300, 65000, 22630, 15750, 20865, 35000,\n",
       "       43195,  6100, 39600, 25000, 49000, 13531, 53000, 33000, 84000,\n",
       "        5000, 55000, 70000, 28000, 35000, 65000, 14090, 49100, 42000,\n",
       "       51000, 51000, 65000, 18000, 55000, 37000, 17000, 25000, 60000,\n",
       "       75000, 33800, 45000, 46000, 67500, 44464, 27000, 30000, 31000,\n",
       "       25000, 20000, 35000, 25400, 72471,  8000, 65000, 62000, 31000,\n",
       "       48000,  4000, 30000, 65000, 15000, 13000, 65000, 18000, 33000],\n",
       "      dtype=int64)"
      ]
     },
     "execution_count": 33,
     "metadata": {},
     "output_type": "execute_result"
    }
   ],
   "source": [
    "y_train"
   ]
  },
  {
   "cell_type": "code",
   "execution_count": null,
   "metadata": {},
   "outputs": [],
   "source": []
  }
 ],
 "metadata": {
  "kernelspec": {
   "display_name": "Python 3",
   "language": "python",
   "name": "python3"
  },
  "language_info": {
   "codemirror_mode": {
    "name": "ipython",
    "version": 3
   },
   "file_extension": ".py",
   "mimetype": "text/x-python",
   "name": "python",
   "nbconvert_exporter": "python",
   "pygments_lexer": "ipython3",
   "version": "3.7.4"
  }
 },
 "nbformat": 4,
 "nbformat_minor": 2
}
